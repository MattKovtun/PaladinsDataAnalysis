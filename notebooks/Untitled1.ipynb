{
 "cells": [
  {
   "cell_type": "code",
   "execution_count": 16,
   "metadata": {},
   "outputs": [],
   "source": [
    "import pandas as pd\n",
    "import json\n",
    "import os\n",
    "import matplotlib.pyplot as plt\n",
    "%matplotlib inline"
   ]
  },
  {
   "cell_type": "code",
   "execution_count": null,
   "metadata": {},
   "outputs": [],
   "source": []
  },
  {
   "cell_type": "code",
   "execution_count": 8,
   "metadata": {},
   "outputs": [],
   "source": [
    "path = '../data/champions/'"
   ]
  },
  {
   "cell_type": "code",
   "execution_count": 9,
   "metadata": {},
   "outputs": [],
   "source": [
    "champs = os.listdir(path)"
   ]
  },
  {
   "cell_type": "code",
   "execution_count": null,
   "metadata": {},
   "outputs": [],
   "source": []
  },
  {
   "cell_type": "code",
   "execution_count": 105,
   "metadata": {},
   "outputs": [],
   "source": [
    "df = pd.DataFrame()"
   ]
  },
  {
   "cell_type": "code",
   "execution_count": 106,
   "metadata": {
    "jupyter": {
     "source_hidden": true
    }
   },
   "outputs": [],
   "source": [
    "speed = []\n",
    "name = []\n",
    "n = []\n",
    "for filename in champs:\n",
    "    with open(path + filename) as f:\n",
    "        champ = json.loads(f.read())\n",
    "        speed.append(champ['Speed'])\n",
    "        name.append(champ['Name'])\n",
    "        n.append(champ['Name'][:2])"
   ]
  },
  {
   "cell_type": "code",
   "execution_count": 107,
   "metadata": {},
   "outputs": [],
   "source": [
    "df['Speed'] = speed\n",
    "df['Name'] = name\n",
    "df['n'] = n"
   ]
  },
  {
   "cell_type": "code",
   "execution_count": 108,
   "metadata": {},
   "outputs": [
    {
     "data": {
      "text/plain": [
       "{'Ability1': 'Soul Orb',\n",
       " 'Ability2': 'Restore Soul',\n",
       " 'Ability3': 'Rend Soul',\n",
       " 'Ability4': 'Shadow Travel',\n",
       " 'Ability5': 'Convergence',\n",
       " 'AbilityId1': 16505,\n",
       " 'AbilityId2': 16589,\n",
       " 'AbilityId3': 16592,\n",
       " 'AbilityId4': 16590,\n",
       " 'AbilityId5': 16593,\n",
       " 'Ability_1': {'Description': 'Fire a magical projectile every 0.3s that deals 210 damage, Pierces enemies, and applies a Soul Orb stack. Soul Orb stacks up to 4 times. Has a maximum Ammo count of 12, and is fully effective up to 300 units. Soul Orb stacks can be detonated with Rend Soul.',\n",
       "  'Id': 16505,\n",
       "  'Summary': 'Soul Orb',\n",
       "  'URL': 'https://web2.hirez.com/paladins/champion-abilities/soul-orb.jpg',\n",
       "  'damageType': 'AoE',\n",
       "  'rechargeSeconds': 0},\n",
       " 'Ability_2': {'Description': 'Target an ally and Heal them for 2000 over 1.5s. All allies within 50 units of your target are Healed for 30% of the Healing done. Has a range of 120 units.',\n",
       "  'Id': 16589,\n",
       "  'Summary': 'Restore Soul',\n",
       "  'URL': 'https://web2.hirez.com/paladins/champion-abilities/restore-soul.jpg',\n",
       "  'damageType': 'True',\n",
       "  'rechargeSeconds': 4},\n",
       " 'Ability_3': {'Description': 'Detonate your Soul Orb stacks, dealing 100 damage for each stack on an enemy. Each stack detonated Heals you for 15% of your maximum Health.',\n",
       "  'Id': 16592,\n",
       "  'Summary': 'Rend Soul',\n",
       "  'URL': 'https://web2.hirez.com/paladins/champion-abilities/rend-soul.jpg',\n",
       "  'damageType': 'AoE',\n",
       "  'rechargeSeconds': 10},\n",
       " 'Ability_4': {'Description': 'Phase into another plane of existence over 1.5s, becoming Stealthed and Ethereal, avoiding all harmful effects for 4s. Activating Shadow Travel restores all your Ammo.',\n",
       "  'Id': 16590,\n",
       "  'Summary': 'Shadow Travel',\n",
       "  'URL': 'https://web2.hirez.com/paladins/champion-abilities/shadow-travel.jpg',\n",
       "  'damageType': 'True',\n",
       "  'rechargeSeconds': 14},\n",
       " 'Ability_5': {'Description': 'Cast your Soul Core onto the battlefield, causing a tear in reality to manifest 0.5s after it lands. Enemies within 60 units are dragged in and Stunned for 1.4s.',\n",
       "  'Id': 16593,\n",
       "  'Summary': 'Convergence',\n",
       "  'URL': 'https://web2.hirez.com/paladins/champion-abilities/convergence.jpg',\n",
       "  'damageType': 'AoE',\n",
       "  'rechargeSeconds': 0},\n",
       " 'ChampionAbility1_URL': 'https://web2.hirez.com/paladins/champion-abilities/soul-orb.jpg',\n",
       " 'ChampionAbility2_URL': 'https://web2.hirez.com/paladins/champion-abilities/restore-soul.jpg',\n",
       " 'ChampionAbility3_URL': 'https://web2.hirez.com/paladins/champion-abilities/rend-soul.jpg',\n",
       " 'ChampionAbility4_URL': 'https://web2.hirez.com/paladins/champion-abilities/shadow-travel.jpg',\n",
       " 'ChampionAbility5_URL': 'https://web2.hirez.com/paladins/champion-abilities/convergence.jpg',\n",
       " 'ChampionCard_URL': '',\n",
       " 'ChampionIcon_URL': 'https://web2.hirez.com/paladins/champion-icons/seris.jpg',\n",
       " 'Cons': '',\n",
       " 'Health': 2200,\n",
       " 'Lore': 'A being from beyond the void, Seris has taken the name of the city she completely destroyed upon first setting foot in the world of the living. Draining the souls of her enemies and occasionally restoring them to her allies, however, pales in comparison to her unnatural prescience, granting her the ability to see into the past and predict the future all at once. She appears here and there in time and space, always at the opportune moment to change the course of events toward some unknown but seemingly inevitable fate.',\n",
       " 'Name': 'Seris',\n",
       " 'Name_English': 'Seris',\n",
       " 'OnFreeRotation': '',\n",
       " 'OnFreeWeeklyRotation': '',\n",
       " 'Pantheon': 'Norse',\n",
       " 'Pros': '',\n",
       " 'Roles': 'Paladins Support',\n",
       " 'Speed': 365,\n",
       " 'Title': 'Oracle of the Abyss',\n",
       " 'Type': '',\n",
       " 'abilityDescription1': 'Fire a magical projectile every 0.3s that deals 210 damage, Pierces enemies, and applies a Soul Orb stack. Soul Orb stacks up to 4 times. Has a maximum Ammo count of 12, and is fully effective up to 300 units. Soul Orb stacks can be detonated with Rend Soul.',\n",
       " 'abilityDescription2': 'Target an ally and Heal them for 2000 over 1.5s. All allies within 50 units of your target are Healed for 30% of the Healing done. Has a range of 120 units.',\n",
       " 'abilityDescription3': 'Detonate your Soul Orb stacks, dealing 100 damage for each stack on an enemy. Each stack detonated Heals you for 15% of your maximum Health.',\n",
       " 'abilityDescription4': 'Phase into another plane of existence over 1.5s, becoming Stealthed and Ethereal, avoiding all harmful effects for 4s. Activating Shadow Travel restores all your Ammo.',\n",
       " 'abilityDescription5': 'Cast your Soul Core onto the battlefield, causing a tear in reality to manifest 0.5s after it lands. Enemies within 60 units are dragged in and Stunned for 1.4s.',\n",
       " 'id': 2372,\n",
       " 'latestChampion': 'n',\n",
       " 'ret_msg': None}"
      ]
     },
     "execution_count": 108,
     "metadata": {},
     "output_type": "execute_result"
    }
   ],
   "source": [
    "champ"
   ]
  },
  {
   "cell_type": "code",
   "execution_count": 109,
   "metadata": {},
   "outputs": [],
   "source": [
    "df = df.sort_values(by='Speed')\n",
    "df = df.reset_index()\n",
    "df = df.drop(columns=['index'])\n"
   ]
  },
  {
   "cell_type": "code",
   "execution_count": null,
   "metadata": {},
   "outputs": [],
   "source": []
  },
  {
   "cell_type": "code",
   "execution_count": 113,
   "metadata": {},
   "outputs": [
    {
     "data": {
      "text/plain": [
       "[Text(0, 0, 'St'),\n",
       " Text(0, 0, 'As'),\n",
       " Text(0, 0, 'Dr'),\n",
       " Text(0, 0, 'Te'),\n",
       " Text(0, 0, 'Ba'),\n",
       " Text(0, 0, 'Im'),\n",
       " Text(0, 0, 'Dr'),\n",
       " Text(0, 0, 'Kh'),\n",
       " Text(0, 0, 'In'),\n",
       " Text(0, 0, 'Pi'),\n",
       " Text(0, 0, 'Ki'),\n",
       " Text(0, 0, 'Ma'),\n",
       " Text(0, 0, 'To'),\n",
       " Text(0, 0, 'Gr'),\n",
       " Text(0, 0, 'Sh'),\n",
       " Text(0, 0, 'Fe'),\n",
       " Text(0, 0, 'Yi'),\n",
       " Text(0, 0, 'Li'),\n",
       " Text(0, 0, 'Ca'),\n",
       " Text(0, 0, 'Je'),\n",
       " Text(0, 0, 'At'),\n",
       " Text(0, 0, 'Bo'),\n",
       " Text(0, 0, 'Gr'),\n",
       " Text(0, 0, 'Ru'),\n",
       " Text(0, 0, 'Se'),\n",
       " Text(0, 0, 'Ev'),\n",
       " Text(0, 0, 'Fu'),\n",
       " Text(0, 0, 'Ra'),\n",
       " Text(0, 0, 'Ma'),\n",
       " Text(0, 0, 'An'),\n",
       " Text(0, 0, 'Vi'),\n",
       " Text(0, 0, 'Bu'),\n",
       " Text(0, 0, 'Ma'),\n",
       " Text(0, 0, 'Ty'),\n",
       " Text(0, 0, 'Mo'),\n",
       " Text(0, 0, 'Wi'),\n",
       " Text(0, 0, 'Vi'),\n",
       " Text(0, 0, 'Io'),\n",
       " Text(0, 0, 'Ko'),\n",
       " Text(0, 0, 'Sk'),\n",
       " Text(0, 0, 'Zh'),\n",
       " Text(0, 0, 'Ta'),\n",
       " Text(0, 0, 'Le')]"
      ]
     },
     "execution_count": 113,
     "metadata": {},
     "output_type": "execute_result"
    },
    {
     "data": {
      "image/png": "[encoded data removed]",
      "text/plain": [
       "<Figure size 2160x576 with 1 Axes>"
      ]
     },
     "metadata": {
      "needs_background": "light"
     },
     "output_type": "display_data"
    }
   ],
   "source": [
    "fig = plt.figure()\n",
    "ax = fig.add_subplot(111)\n",
    "df.plot(ax=ax, figsize=(30,8), y=['Speed'])\n",
    "ax.set_xticks(df.index)\n",
    "ax.set_xticklabels(df['n'])\n"
   ]
  },
  {
   "cell_type": "code",
   "execution_count": 115,
   "metadata": {},
   "outputs": [],
   "source": [
    "df.to_csv('speed.csv',index=False)"
   ]
  },
  {
   "cell_type": "code",
   "execution_count": null,
   "metadata": {},
   "outputs": [],
   "source": []
  },
  {
   "cell_type": "code",
   "execution_count": null,
   "metadata": {},
   "outputs": [],
   "source": []
  }
 ],
 "metadata": {
  "kernelspec": {
   "display_name": "Python 3",
   "language": "python",
   "name": "python3"
  },
  "language_info": {
   "codemirror_mode": {
    "name": "ipython",
    "version": 3
   },
   "file_extension": ".py",
   "mimetype": "text/x-python",
   "name": "python",
   "nbconvert_exporter": "python",
   "pygments_lexer": "ipython3",
   "version": "3.7.5"
  }
 },
 "nbformat": 4,
 "nbformat_minor": 4
}
